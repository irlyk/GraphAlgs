{
 "cells": [
  {
   "cell_type": "markdown",
   "metadata": {},
   "source": [
    "# Лабораторная работа №5\n",
    "## Тема: понятие транспортной сети в теории графов и максимальный поток.\n",
    "### Задание: \n",
    "Разработать программу на языке высокого уровня, расчитывающую значение максимального потока в заданной транспортной сети с помощью алгоритма Диница. Предусмотреть выполнение программы на сетях, содержащих более 1000 узлов"
   ]
  },
  {
   "cell_type": "code",
   "execution_count": 1,
   "metadata": {},
   "outputs": [],
   "source": [
    "import random\n",
    "import graphviz\n",
    "import csv\n",
    "from queue import Queue\n",
    "file_open = \"fgraph.csv\""
   ]
  },
  {
   "cell_type": "code",
   "execution_count": 2,
   "metadata": {},
   "outputs": [],
   "source": [
    "def flowcsvread(FILENAME):\n",
    "    adj = {}\n",
    "    with open(FILENAME) as file:\n",
    "        reader = csv.reader(file)\n",
    "        for row in reader:\n",
    "            st = int(row[0])\n",
    "            adj[st] = {}\n",
    "            key = 0\n",
    "            for a in row[1:]:\n",
    "                try:\n",
    "                    time = int(a)\n",
    "                    adj[st][time] = []\n",
    "                    key = time\n",
    "                except:\n",
    "                    for b in a:\n",
    "                        try:\n",
    "                            kr = int(b)\n",
    "                            adj[st][key].append(kr)\n",
    "                        except:\n",
    "                            continue\n",
    "                    Time = (adj[st][key][0],adj[st][key][1])\n",
    "                    adj[st][key] = Time         \n",
    "    return adj"
   ]
  },
  {
   "cell_type": "code",
   "execution_count": 3,
   "metadata": {},
   "outputs": [],
   "source": [
    "def maxFlow(G):\n",
    "    s = min(G.keys())\n",
    "    t = max(G.keys())\n",
    "    d = {}\n",
    "    p = {}\n",
    "    \n",
    "    def bfs():\n",
    "        for a in G.keys():\n",
    "            d[a] = float(\"inf\")\n",
    "        d[s] = 0\n",
    "        Q = Queue()\n",
    "        Q.put(s)\n",
    "        while not Q.empty():\n",
    "            u = Q.get()\n",
    "            for v in G[u].keys(): \n",
    "                if G[u][v][0] < G[u][v][1] and d[v] == float(\"inf\"):\n",
    "                    d[v] = d[u] + 1\n",
    "                    Q.put(v)\n",
    "        return d[t] != float(\"inf\")\n",
    "    \n",
    "    def dfs(u, minC):\n",
    "        if u == t or minC == 0:\n",
    "            return minC\n",
    "        T = []\n",
    "        for a in G.keys():\n",
    "            T.append(a)\n",
    "        for i in range(p[u],len(T)):\n",
    "            v = T[i]\n",
    "            if d[v] == d[u] + 1 and v in G[u].keys():\n",
    "                #print (\"edje\",u,\"-\",v)\n",
    "                #print(\"p - \",p)\n",
    "                a , b = G[u][v]\n",
    "                delta = dfs(v, min(minC, b - a))\n",
    "                if delta != 0:\n",
    "                    a , b = G[u][v]\n",
    "                    G[u][v] = (a + delta , b)\n",
    "                    return delta\n",
    "            p[u] += 1\n",
    "        return 0\n",
    "    \n",
    "    def findMaxFlow():\n",
    "        maxflow = 0\n",
    "        while bfs():\n",
    "            for a in G.keys():\n",
    "                p[a] = 0\n",
    "            flow = dfs(s, float(\"inf\"))\n",
    "            while flow != 0 :\n",
    "                maxflow += flow\n",
    "                flow = dfs (s, float(\"inf\"))\n",
    "        return maxflow\n",
    "    \n",
    "    return findMaxFlow()"
   ]
  },
  {
   "cell_type": "code",
   "execution_count": 4,
   "metadata": {},
   "outputs": [],
   "source": [
    "def flowgrviz(adj):\n",
    "    graph = graphviz.Digraph()\n",
    "    for a in adj.keys():\n",
    "        for b in adj[a].keys():\n",
    "            graph.edge(str(a),str(b),label = str(adj[a][b][0])+\"/\"+str(adj[a][b][1]))\n",
    "            #print(str(adj[a][b][0])+\"/\"+str(adj[a][b][1]))\n",
    "    return graph"
   ]
  },
  {
   "cell_type": "code",
   "execution_count": 5,
   "metadata": {
    "scrolled": true
   },
   "outputs": [
    {
     "name": "stdout",
     "output_type": "stream",
     "text": [
      "Граф имеет 1000 вершин\n",
      "Максимальный поток в сети:\n",
      "1417\n"
     ]
    }
   ],
   "source": [
    "adj = flowcsvread(file_open)\n",
    "if len(adj.keys()) < 22:\n",
    "    for a in adj.keys():\n",
    "        print(a,\": \", adj[a])\n",
    "else:\n",
    "    print(\"Граф имеет\",len(adj.keys()),\"вершин\")\n",
    "print(\"Максимальный поток в сети:\")\n",
    "print(maxFlow(adj))"
   ]
  },
  {
   "cell_type": "code",
   "execution_count": 6,
   "metadata": {},
   "outputs": [],
   "source": [
    "if len(adj.keys()) < 22:\n",
    "    graph = flowgrviz(adj)\n",
    "else:\n",
    "    graph = \"Слишком большое число вершин\""
   ]
  },
  {
   "cell_type": "code",
   "execution_count": 7,
   "metadata": {
    "scrolled": true
   },
   "outputs": [
    {
     "data": {
      "text/plain": [
       "'Слишком большое число вершин'"
      ]
     },
     "execution_count": 7,
     "metadata": {},
     "output_type": "execute_result"
    }
   ],
   "source": [
    "graph"
   ]
  }
 ],
 "metadata": {
  "kernelspec": {
   "display_name": "Python 3",
   "language": "python",
   "name": "python3"
  },
  "language_info": {
   "codemirror_mode": {
    "name": "ipython",
    "version": 3
   },
   "file_extension": ".py",
   "mimetype": "text/x-python",
   "name": "python",
   "nbconvert_exporter": "python",
   "pygments_lexer": "ipython3",
   "version": "3.7.2"
  }
 },
 "nbformat": 4,
 "nbformat_minor": 2
}
