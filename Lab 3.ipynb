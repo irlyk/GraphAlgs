{
 "cells": [
  {
   "cell_type": "markdown",
   "metadata": {},
   "source": [
    "# Лабораторная работа №3"
   ]
  },
  {
   "cell_type": "markdown",
   "metadata": {},
   "source": [
    "## Задание: "
   ]
  },
  {
   "cell_type": "markdown",
   "metadata": {},
   "source": [
    "Разработать программу на языке высокого уровня, реализующую алгаритм Крускала построения минимального остового дерева. На вход в программу поступает файл, содержащий списки смежности вершин в формате CSV, на выходе программа должна давать списки смежностей остовного дерева в аналогичном формате"
   ]
  },
  {
   "cell_type": "code",
   "execution_count": 1,
   "metadata": {},
   "outputs": [],
   "source": [
    "import random\n",
    "import graphviz\n",
    "import csv"
   ]
  },
  {
   "cell_type": "code",
   "execution_count": 2,
   "metadata": {
    "scrolled": false
   },
   "outputs": [],
   "source": [
    "def grviz(adj):\n",
    "    graph = graphviz.Graph() \n",
    "    for a in adj.keys():\n",
    "        for b in adj[a]:\n",
    "            graph.edge(str(a),str(b[0]),label = str(b[1]))\n",
    "    return graph"
   ]
  },
  {
   "cell_type": "code",
   "execution_count": 3,
   "metadata": {},
   "outputs": [],
   "source": [
    "def kruskal(edge_list):\n",
    "    #(v,w,вес)\n",
    "    sorted_edge_list = sorted(edge_list, key = (lambda l: l[2]))\n",
    "    connected_components = []\n",
    "    spanning_tree = []\n",
    "    for edge_ in sorted_edge_list:\n",
    "        v,w,_= edge_\n",
    "        flag = False\n",
    "        not_found = True\n",
    "        for cc in connected_components:\n",
    "            if (v in cc) and (w not in cc):\n",
    "                flag = True\n",
    "                for cc2 in connected_components:\n",
    "                    if w in cc2:\n",
    "                        [cc.append(x) for x in cc2]\n",
    "                        connected_components.remove(cc2)\n",
    "                        spanning_tree.append(edge_)\n",
    "                        flag = False\n",
    "                        break\n",
    "                if flag:\n",
    "                    cc.append(w)\n",
    "                    spanning_tree.append(edge_)\n",
    "                not_found=False\n",
    "            elif (w in cc) and (v not in cc):\n",
    "                flag = True\n",
    "                for cc2 in connected_components:\n",
    "                    if v in cc2:\n",
    "                        [cc.append(x) for x in cc2]\n",
    "                        connected_components.remove(cc2)\n",
    "                        spanning_tree.append(edge_)\n",
    "                        flag = False\n",
    "                        break\n",
    "                if flag:\n",
    "                    cc.append(v)\n",
    "                    spanning_tree.append(edge_)\n",
    "                not_found=False\n",
    "            elif (w in cc) and (v in cc):\n",
    "                not_found=False\n",
    "                break\n",
    "        if not_found:\n",
    "            connected_components.append([v,w])\n",
    "            spanning_tree.append(edge_)\n",
    "    return spanning_tree\n",
    "\n",
    "def edges2adj(edges):\n",
    "    adj = {}\n",
    "    for x, y, z in edges:\n",
    "        if x in adj.keys():\n",
    "            adj[x].append([y,z])\n",
    "        else:\n",
    "            adj[x] = [[y, z]]\n",
    "    return adj\n",
    "\n",
    "def edges2adj2(edges):\n",
    "    adj = {}\n",
    "    for x,y,z in edges:\n",
    "        if x in adj.keys():\n",
    "            adj[x].append([y,z])\n",
    "        else:\n",
    "            adj[x] = [[y,z]]\n",
    "    return adj\n",
    "\n",
    "def adj2edges(adj):\n",
    "    edges = []\n",
    "    for a in adj.keys():\n",
    "        for x in adj[a]:\n",
    "            edges.append((a,x[0],x[1]))\n",
    "    return edges\n"
   ]
  },
  {
   "cell_type": "code",
   "execution_count": 4,
   "metadata": {},
   "outputs": [],
   "source": [
    "def csvwrite(T,FILENAME):\n",
    "    with open(FILENAME, \"w\", newline=\"\") as file:\n",
    "        wr = csv.writer(file)    \n",
    "        for key,values in T.items():\n",
    "            Time = []\n",
    "            Time.append (key)\n",
    "            Time += values\n",
    "            wr.writerow(Time)          "
   ]
  },
  {
   "cell_type": "code",
   "execution_count": 5,
   "metadata": {},
   "outputs": [],
   "source": [
    "def csvread(FILENAME):\n",
    "    adj = {}\n",
    "    with open(FILENAME) as file:\n",
    "        reader = csv.reader(file)\n",
    "        for row in reader:\n",
    "            st = int(row[0])\n",
    "            adj[st]=[]\n",
    "            for a in row[1:]:\n",
    "                Time = []\n",
    "                for b in a:\n",
    "                    try:\n",
    "                        Time.append(int(b))\n",
    "                    except:\n",
    "                        continue\n",
    "                adj[st].append(Time)\n",
    "    return adj"
   ]
  },
  {
   "cell_type": "code",
   "execution_count": 6,
   "metadata": {
    "scrolled": true
   },
   "outputs": [
    {
     "data": {
      "image/svg+xml": [
       "<?xml version=\"1.0\" encoding=\"UTF-8\" standalone=\"no\"?>\n",
       "<!DOCTYPE svg PUBLIC \"-//W3C//DTD SVG 1.1//EN\"\n",
       " \"http://www.w3.org/Graphics/SVG/1.1/DTD/svg11.dtd\">\n",
       "<!-- Generated by graphviz version 2.40.1 (20161225.0304)\n",
       " -->\n",
       "<!-- Title: %3 Pages: 1 -->\n",
       "<svg width=\"186pt\" height=\"218pt\"\n",
       " viewBox=\"0.00 0.00 186.00 218.00\" xmlns=\"http://www.w3.org/2000/svg\" xmlns:xlink=\"http://www.w3.org/1999/xlink\">\n",
       "<g id=\"graph0\" class=\"graph\" transform=\"scale(1 1) rotate(0) translate(4 214)\">\n",
       "<title>%3</title>\n",
       "<polygon fill=\"#ffffff\" stroke=\"transparent\" points=\"-4,4 -4,-214 182,-214 182,4 -4,4\"/>\n",
       "<!-- 0 -->\n",
       "<g id=\"node1\" class=\"node\">\n",
       "<title>0</title>\n",
       "<ellipse fill=\"none\" stroke=\"#000000\" cx=\"27\" cy=\"-192\" rx=\"27\" ry=\"18\"/>\n",
       "<text text-anchor=\"middle\" x=\"27\" y=\"-188.3\" font-family=\"Times,serif\" font-size=\"14.00\" fill=\"#000000\">0</text>\n",
       "</g>\n",
       "<!-- 1 -->\n",
       "<g id=\"node2\" class=\"node\">\n",
       "<title>1</title>\n",
       "<ellipse fill=\"none\" stroke=\"#000000\" cx=\"79\" cy=\"-105\" rx=\"27\" ry=\"18\"/>\n",
       "<text text-anchor=\"middle\" x=\"79\" y=\"-101.3\" font-family=\"Times,serif\" font-size=\"14.00\" fill=\"#000000\">1</text>\n",
       "</g>\n",
       "<!-- 0&#45;&#45;1 -->\n",
       "<g id=\"edge1\" class=\"edge\">\n",
       "<title>0&#45;&#45;1</title>\n",
       "<path fill=\"none\" stroke=\"#000000\" d=\"M37.0261,-175.2255C46.2341,-159.8198 59.8064,-137.1124 69.0047,-121.723\"/>\n",
       "<text text-anchor=\"middle\" x=\"59.5\" y=\"-144.8\" font-family=\"Times,serif\" font-size=\"14.00\" fill=\"#000000\">3</text>\n",
       "</g>\n",
       "<!-- 2 -->\n",
       "<g id=\"node3\" class=\"node\">\n",
       "<title>2</title>\n",
       "<ellipse fill=\"none\" stroke=\"#000000\" cx=\"79\" cy=\"-18\" rx=\"27\" ry=\"18\"/>\n",
       "<text text-anchor=\"middle\" x=\"79\" y=\"-14.3\" font-family=\"Times,serif\" font-size=\"14.00\" fill=\"#000000\">2</text>\n",
       "</g>\n",
       "<!-- 1&#45;&#45;2 -->\n",
       "<g id=\"edge2\" class=\"edge\">\n",
       "<title>1&#45;&#45;2</title>\n",
       "<path fill=\"none\" stroke=\"#000000\" d=\"M79,-86.9735C79,-72.0422 79,-50.9283 79,-36.0034\"/>\n",
       "<text text-anchor=\"middle\" x=\"82.5\" y=\"-57.8\" font-family=\"Times,serif\" font-size=\"14.00\" fill=\"#000000\">1</text>\n",
       "</g>\n",
       "<!-- 2&#45;&#45;0 -->\n",
       "<g id=\"edge3\" class=\"edge\">\n",
       "<title>2&#45;&#45;0</title>\n",
       "<path fill=\"none\" stroke=\"#000000\" d=\"M66.0215,-33.8971C55.9398,-47.2148 42.5991,-67.1796 36,-87 26.2902,-116.1634 25.4486,-152.2695 26.0173,-173.6465\"/>\n",
       "<text text-anchor=\"middle\" x=\"39.5\" y=\"-101.3\" font-family=\"Times,serif\" font-size=\"14.00\" fill=\"#000000\">8</text>\n",
       "</g>\n",
       "<!-- 3 -->\n",
       "<g id=\"node4\" class=\"node\">\n",
       "<title>3</title>\n",
       "<ellipse fill=\"none\" stroke=\"#000000\" cx=\"151\" cy=\"-105\" rx=\"27\" ry=\"18\"/>\n",
       "<text text-anchor=\"middle\" x=\"151\" y=\"-101.3\" font-family=\"Times,serif\" font-size=\"14.00\" fill=\"#000000\">3</text>\n",
       "</g>\n",
       "<!-- 3&#45;&#45;2 -->\n",
       "<g id=\"edge4\" class=\"edge\">\n",
       "<title>3&#45;&#45;2</title>\n",
       "<path fill=\"none\" stroke=\"#000000\" d=\"M137.7941,-89.0429C124.803,-73.3453 105.0843,-49.5185 92.1222,-33.856\"/>\n",
       "<text text-anchor=\"middle\" x=\"122.5\" y=\"-57.8\" font-family=\"Times,serif\" font-size=\"14.00\" fill=\"#000000\">2</text>\n",
       "</g>\n",
       "<!-- 4 -->\n",
       "<g id=\"node5\" class=\"node\">\n",
       "<title>4</title>\n",
       "<ellipse fill=\"none\" stroke=\"#000000\" cx=\"99\" cy=\"-192\" rx=\"27\" ry=\"18\"/>\n",
       "<text text-anchor=\"middle\" x=\"99\" y=\"-188.3\" font-family=\"Times,serif\" font-size=\"14.00\" fill=\"#000000\">4</text>\n",
       "</g>\n",
       "<!-- 4&#45;&#45;1 -->\n",
       "<g id=\"edge5\" class=\"edge\">\n",
       "<title>4&#45;&#45;1</title>\n",
       "<path fill=\"none\" stroke=\"#000000\" d=\"M94.856,-173.9735C91.4235,-159.0422 86.5697,-137.9283 83.1387,-123.0034\"/>\n",
       "<text text-anchor=\"middle\" x=\"93.5\" y=\"-144.8\" font-family=\"Times,serif\" font-size=\"14.00\" fill=\"#000000\">2</text>\n",
       "</g>\n",
       "</g>\n",
       "</svg>\n"
      ],
      "text/plain": [
       "<graphviz.dot.Graph at 0x7f37b04a1278>"
      ]
     },
     "execution_count": 6,
     "metadata": {},
     "output_type": "execute_result"
    }
   ],
   "source": [
    "adj = csvread(\"vgraph.csv\")\n",
    "graph = grviz(adj)\n",
    "graph"
   ]
  },
  {
   "cell_type": "code",
   "execution_count": 7,
   "metadata": {},
   "outputs": [
    {
     "data": {
      "image/svg+xml": [
       "<?xml version=\"1.0\" encoding=\"UTF-8\" standalone=\"no\"?>\n",
       "<!DOCTYPE svg PUBLIC \"-//W3C//DTD SVG 1.1//EN\"\n",
       " \"http://www.w3.org/Graphics/SVG/1.1/DTD/svg11.dtd\">\n",
       "<!-- Generated by graphviz version 2.40.1 (20161225.0304)\n",
       " -->\n",
       "<!-- Title: %3 Pages: 1 -->\n",
       "<svg width=\"170pt\" height=\"218pt\"\n",
       " viewBox=\"0.00 0.00 170.00 218.00\" xmlns=\"http://www.w3.org/2000/svg\" xmlns:xlink=\"http://www.w3.org/1999/xlink\">\n",
       "<g id=\"graph0\" class=\"graph\" transform=\"scale(1 1) rotate(0) translate(4 214)\">\n",
       "<title>%3</title>\n",
       "<polygon fill=\"#ffffff\" stroke=\"transparent\" points=\"-4,4 -4,-214 166,-214 166,4 -4,4\"/>\n",
       "<!-- 1 -->\n",
       "<g id=\"node1\" class=\"node\">\n",
       "<title>1</title>\n",
       "<ellipse fill=\"none\" stroke=\"#000000\" cx=\"99\" cy=\"-105\" rx=\"27\" ry=\"18\"/>\n",
       "<text text-anchor=\"middle\" x=\"99\" y=\"-101.3\" font-family=\"Times,serif\" font-size=\"14.00\" fill=\"#000000\">1</text>\n",
       "</g>\n",
       "<!-- 2 -->\n",
       "<g id=\"node2\" class=\"node\">\n",
       "<title>2</title>\n",
       "<ellipse fill=\"none\" stroke=\"#000000\" cx=\"42\" cy=\"-18\" rx=\"27\" ry=\"18\"/>\n",
       "<text text-anchor=\"middle\" x=\"42\" y=\"-14.3\" font-family=\"Times,serif\" font-size=\"14.00\" fill=\"#000000\">2</text>\n",
       "</g>\n",
       "<!-- 1&#45;&#45;2 -->\n",
       "<g id=\"edge1\" class=\"edge\">\n",
       "<title>1&#45;&#45;2</title>\n",
       "<path fill=\"none\" stroke=\"#000000\" d=\"M88.0098,-88.2255C77.9164,-72.8198 63.0392,-50.1124 52.9564,-34.723\"/>\n",
       "<text text-anchor=\"middle\" x=\"76.5\" y=\"-57.8\" font-family=\"Times,serif\" font-size=\"14.00\" fill=\"#000000\">1</text>\n",
       "</g>\n",
       "<!-- 3 -->\n",
       "<g id=\"node3\" class=\"node\">\n",
       "<title>3</title>\n",
       "<ellipse fill=\"none\" stroke=\"#000000\" cx=\"27\" cy=\"-105\" rx=\"27\" ry=\"18\"/>\n",
       "<text text-anchor=\"middle\" x=\"27\" y=\"-101.3\" font-family=\"Times,serif\" font-size=\"14.00\" fill=\"#000000\">3</text>\n",
       "</g>\n",
       "<!-- 3&#45;&#45;2 -->\n",
       "<g id=\"edge2\" class=\"edge\">\n",
       "<title>3&#45;&#45;2</title>\n",
       "<path fill=\"none\" stroke=\"#000000\" d=\"M30.108,-86.9735C32.6824,-72.0422 36.3227,-50.9283 38.896,-36.0034\"/>\n",
       "<text text-anchor=\"middle\" x=\"39.5\" y=\"-57.8\" font-family=\"Times,serif\" font-size=\"14.00\" fill=\"#000000\">2</text>\n",
       "</g>\n",
       "<!-- 4 -->\n",
       "<g id=\"node4\" class=\"node\">\n",
       "<title>4</title>\n",
       "<ellipse fill=\"none\" stroke=\"#000000\" cx=\"63\" cy=\"-192\" rx=\"27\" ry=\"18\"/>\n",
       "<text text-anchor=\"middle\" x=\"63\" y=\"-188.3\" font-family=\"Times,serif\" font-size=\"14.00\" fill=\"#000000\">4</text>\n",
       "</g>\n",
       "<!-- 4&#45;&#45;1 -->\n",
       "<g id=\"edge3\" class=\"edge\">\n",
       "<title>4&#45;&#45;1</title>\n",
       "<path fill=\"none\" stroke=\"#000000\" d=\"M70.2851,-174.3943C76.531,-159.3001 85.483,-137.6661 91.7257,-122.5796\"/>\n",
       "<text text-anchor=\"middle\" x=\"86.5\" y=\"-144.8\" font-family=\"Times,serif\" font-size=\"14.00\" fill=\"#000000\">2</text>\n",
       "</g>\n",
       "<!-- 0 -->\n",
       "<g id=\"node5\" class=\"node\">\n",
       "<title>0</title>\n",
       "<ellipse fill=\"none\" stroke=\"#000000\" cx=\"135\" cy=\"-192\" rx=\"27\" ry=\"18\"/>\n",
       "<text text-anchor=\"middle\" x=\"135\" y=\"-188.3\" font-family=\"Times,serif\" font-size=\"14.00\" fill=\"#000000\">0</text>\n",
       "</g>\n",
       "<!-- 0&#45;&#45;1 -->\n",
       "<g id=\"edge4\" class=\"edge\">\n",
       "<title>0&#45;&#45;1</title>\n",
       "<path fill=\"none\" stroke=\"#000000\" d=\"M127.7149,-174.3943C121.469,-159.3001 112.517,-137.6661 106.2743,-122.5796\"/>\n",
       "<text text-anchor=\"middle\" x=\"122.5\" y=\"-144.8\" font-family=\"Times,serif\" font-size=\"14.00\" fill=\"#000000\">3</text>\n",
       "</g>\n",
       "</g>\n",
       "</svg>\n"
      ],
      "text/plain": [
       "<graphviz.dot.Graph at 0x7f37b04d05c0>"
      ]
     },
     "execution_count": 7,
     "metadata": {},
     "output_type": "execute_result"
    }
   ],
   "source": [
    "edge_list = adj2edges(adj)   \n",
    "#print (edges2adj(edge_list))\n",
    "st = kruskal(edge_list)\n",
    "adj = edges2adj2(st)\n",
    "csvwrite(adj, \"result.csv\")\n",
    "graph = grviz(adj)\n",
    "graph"
   ]
  },
  {
   "cell_type": "code",
   "execution_count": null,
   "metadata": {},
   "outputs": [],
   "source": []
  }
 ],
 "metadata": {
  "kernelspec": {
   "display_name": "Python 3",
   "language": "python",
   "name": "python3"
  },
  "language_info": {
   "codemirror_mode": {
    "name": "ipython",
    "version": 3
   },
   "file_extension": ".py",
   "mimetype": "text/x-python",
   "name": "python",
   "nbconvert_exporter": "python",
   "pygments_lexer": "ipython3",
   "version": "3.7.2"
  }
 },
 "nbformat": 4,
 "nbformat_minor": 2
}
