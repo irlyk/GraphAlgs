{
 "cells": [
  {
   "cell_type": "code",
   "execution_count": 1,
   "metadata": {},
   "outputs": [],
   "source": [
    "import graphviz\n",
    "import csv\n",
    "filename = \"graph.csv\""
   ]
  },
  {
   "cell_type": "code",
   "execution_count": 2,
   "metadata": {},
   "outputs": [],
   "source": [
    "def stdcsvread(FILENAME):\n",
    "    adj = {}\n",
    "    with open(FILENAME) as file:\n",
    "        reader = csv.reader(file)\n",
    "        for row in reader:\n",
    "            st = int(row[0])\n",
    "            adj[st] = []\n",
    "            for a in row[1:]:\n",
    "                adj[st].append(int(a))\n",
    "    return adj"
   ]
  },
  {
   "cell_type": "code",
   "execution_count": 3,
   "metadata": {},
   "outputs": [],
   "source": [
    "def grviz(adj):\n",
    "    graph = graphviz.Digraph() \n",
    "    for a in adj.keys():\n",
    "        for b in adj[a]:\n",
    "            graph.edge(str(a),str(b))\n",
    "    return graph"
   ]
  },
  {
   "cell_type": "code",
   "execution_count": 4,
   "metadata": {},
   "outputs": [],
   "source": [
    "def colors(adj):\n",
    "    sortetd_adjes = sorted(adj , key = lambda x: len(adj[x]), reverse=True)\n",
    "    Colored = {}\n",
    "    col = 1\n",
    "    print(\"Отсортировано\")\n",
    "    for a in sortetd_adjes:\n",
    "        Colored[a] = 0\n",
    "    for a in Colored:\n",
    "        k = 1\n",
    "        while Colored[a] == 0:\n",
    "            check = True\n",
    "            for b in adj:\n",
    "                if a in adj[b]:\n",
    "                    if Colored[b] == k:\n",
    "                        k += 1\n",
    "                        check = False\n",
    "                        #break\n",
    "                if b in adj[a]:\n",
    "                    if Colored[b] == k:\n",
    "                        k += 1\n",
    "                        check = False\n",
    "                        #break\n",
    "            if check:\n",
    "                Colored[a] = k\n",
    "                print(\"вершина \",a, \" цвет - \", Colored[a])\n",
    "                if k > col:\n",
    "                    col = k\n",
    "    #if(len(adj.keys())<200):\n",
    "        #for a in Colored.keys():\n",
    "            #print(\"вершина \",a, \" цвет - \", Colored[a])\n",
    "    return col"
   ]
  },
  {
   "cell_type": "code",
   "execution_count": 5,
   "metadata": {
    "scrolled": false
   },
   "outputs": [
    {
     "name": "stdout",
     "output_type": "stream",
     "text": [
      "Отсортировано\n",
      "вершина  0  цвет -  1\n",
      "вершина  1  цвет -  2\n",
      "вершина  2  цвет -  2\n",
      "вершина  3  цвет -  1\n",
      "вершина  4  цвет -  1\n",
      "вершина  5  цвет -  1\n",
      "вершина  6  цвет -  1\n",
      "количество цветов -  2\n"
     ]
    }
   ],
   "source": [
    "adj = {0: [1,2],\n",
    "      1:[3,4],\n",
    "      2:[5,6],\n",
    "       3:[],\n",
    "       4:[],\n",
    "       5:[],\n",
    "       6:[]\n",
    "      }\n",
    "k = colors(adj)\n",
    "print(\"количество цветов - \", k)\n",
    "graph = grviz(adj)"
   ]
  },
  {
   "cell_type": "code",
   "execution_count": 6,
   "metadata": {},
   "outputs": [
    {
     "name": "stdout",
     "output_type": "stream",
     "text": [
      "dict_keys([0, 1, 2, 3, 4, 5, 6])\n"
     ]
    }
   ],
   "source": [
    "#raph\n",
    "print(adj.keys())"
   ]
  }
 ],
 "metadata": {
  "kernelspec": {
   "display_name": "Python 3",
   "language": "python",
   "name": "python3"
  },
  "language_info": {
   "codemirror_mode": {
    "name": "ipython",
    "version": 3
   },
   "file_extension": ".py",
   "mimetype": "text/x-python",
   "name": "python",
   "nbconvert_exporter": "python",
   "pygments_lexer": "ipython3",
   "version": "3.7.2"
  }
 },
 "nbformat": 4,
 "nbformat_minor": 2
}
